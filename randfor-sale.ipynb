{
 "cells": [
  {
   "cell_type": "code",
   "execution_count": 1,
   "metadata": {
    "colab": {},
    "colab_type": "code",
    "id": "JjE1ypoyc1qq"
   },
   "outputs": [],
   "source": [
    "# Libraries\n",
    "import numpy as np\n",
    "import pandas as pd\n",
    "import matplotlib.pyplot as plt\n",
    "import seaborn as sns\n",
    "\n",
    "from warnings import filterwarnings\n",
    "\n",
    "pd.set_option('display.float_format', lambda num:'%1.3f'%num)\n",
    "pd.set_option('display.max_columns', 99)\n",
    "filterwarnings('ignore')"
   ]
  },
  {
   "cell_type": "markdown",
   "metadata": {
    "colab_type": "text",
    "id": "3XiMx8grc1qs"
   },
   "source": [
    "# Data Description\n",
    "\n",
    "Feature | Description\n",
    ":---|:---\n",
    "UniqueId |The unique id of a customer.\n",
    "SocialMedia |The number of different social media webpages visited during the session.\n",
    "SocialMediaTime |The seconds spent visiting social media web pages.\n",
    "News|The number of different news( eg. CNN) webpages visited by the prospective customer during the session.\n",
    "NewsTime|The seconds spent visiting web pages providing news service. \n",
    "Blogs|The number Blog web pages visited during the session.\n",
    "BlogsTime| The seconds spent visiting Blogs web pages.\n",
    "BounceRate| The percentage of visitors  leaving the page without triggering any other requests during the session.\n",
    "ExitRate| The value of all pageviews to the page, the percentage that was the last in the session. \n",
    "PageValue|The average value for a web page that a user visited before completing an e-commerce transaction\n",
    "TrafficKind| Web Administration terminology. Categorical feature describing the kind of traffic the website received. \n",
    "OS|Categorical feature describing the operating system of the platform connected to the session.\n",
    "Browser|Categorical feature describing the browser that connected to the session.\n",
    "Month|It can be handled as discrete or categorical. The month of the connection.\n",
    "Region|Categorical geographical feature describing the USA region from where the session is initiated.\n",
    "VisitorKind|This categorical variable describes the kind of visitor.\n",
    "DayImportance|The closeness of the visit time to a special day (e.g. Mother’s Day, Valentine's Day) \n",
    "IsWeekend|Whether it is a weekend or not.\n",
    "IsSale|Whether this is a transaction or not. This is the Response Variable."
   ]
  },
  {
   "cell_type": "markdown",
   "metadata": {
    "colab_type": "text",
    "id": "dd-AUgk5c1qz",
    "tags": []
   },
   "source": [
    "# Data Wrangling & Visualization \n",
    "\n",
    "\n"
   ]
  },
  {
   "cell_type": "code",
   "execution_count": 3,
   "metadata": {
    "colab": {},
    "colab_type": "code",
    "id": "bPWIkZSyasKH"
   },
   "outputs": [],
   "source": [
    "train = pd.read_csv(\"train.csv\", index_col=0)"
   ]
  },
  {
   "cell_type": "code",
   "execution_count": 4,
   "metadata": {
    "colab": {},
    "colab_type": "code",
    "id": "_4UrCtbSasKJ",
    "outputId": "3458269f-0f39-42f9-ac6a-f34f862a2ea4"
   },
   "outputs": [
    {
     "data": {
      "text/html": [
       "<div>\n",
       "<style scoped>\n",
       "    .dataframe tbody tr th:only-of-type {\n",
       "        vertical-align: middle;\n",
       "    }\n",
       "\n",
       "    .dataframe tbody tr th {\n",
       "        vertical-align: top;\n",
       "    }\n",
       "\n",
       "    .dataframe thead th {\n",
       "        text-align: right;\n",
       "    }\n",
       "</style>\n",
       "<table border=\"1\" class=\"dataframe\">\n",
       "  <thead>\n",
       "    <tr style=\"text-align: right;\">\n",
       "      <th></th>\n",
       "      <th>SocialMedia</th>\n",
       "      <th>SocialMediaTime</th>\n",
       "      <th>News</th>\n",
       "      <th>NewsTime</th>\n",
       "      <th>Blogs</th>\n",
       "      <th>BlogsTime</th>\n",
       "      <th>BounceRate</th>\n",
       "      <th>ExitRate</th>\n",
       "      <th>PageValue</th>\n",
       "      <th>TrafficKind</th>\n",
       "      <th>OS</th>\n",
       "      <th>Browser</th>\n",
       "      <th>Month</th>\n",
       "      <th>Region</th>\n",
       "      <th>VisitorKind</th>\n",
       "      <th>DayImportance</th>\n",
       "      <th>IsWeekend</th>\n",
       "      <th>IsSale</th>\n",
       "    </tr>\n",
       "    <tr>\n",
       "      <th>UniqueId</th>\n",
       "      <th></th>\n",
       "      <th></th>\n",
       "      <th></th>\n",
       "      <th></th>\n",
       "      <th></th>\n",
       "      <th></th>\n",
       "      <th></th>\n",
       "      <th></th>\n",
       "      <th></th>\n",
       "      <th></th>\n",
       "      <th></th>\n",
       "      <th></th>\n",
       "      <th></th>\n",
       "      <th></th>\n",
       "      <th></th>\n",
       "      <th></th>\n",
       "      <th></th>\n",
       "      <th></th>\n",
       "    </tr>\n",
       "  </thead>\n",
       "  <tbody>\n",
       "    <tr>\n",
       "      <th>000x41</th>\n",
       "      <td>3.000</td>\n",
       "      <td>87.833</td>\n",
       "      <td>0.000</td>\n",
       "      <td>0.000</td>\n",
       "      <td>27.000</td>\n",
       "      <td>798.333</td>\n",
       "      <td>0.000</td>\n",
       "      <td>0.013</td>\n",
       "      <td>22.916</td>\n",
       "      <td>search</td>\n",
       "      <td>windows</td>\n",
       "      <td>Google-Chrome</td>\n",
       "      <td>Feb</td>\n",
       "      <td>East North Central</td>\n",
       "      <td>Returning</td>\n",
       "      <td>0.800</td>\n",
       "      <td>0.000</td>\n",
       "      <td>True</td>\n",
       "    </tr>\n",
       "    <tr>\n",
       "      <th>000x4c</th>\n",
       "      <td>10.000</td>\n",
       "      <td>1005.667</td>\n",
       "      <td>0.000</td>\n",
       "      <td>0.000</td>\n",
       "      <td>36.000</td>\n",
       "      <td>2111.342</td>\n",
       "      <td>0.004</td>\n",
       "      <td>0.014</td>\n",
       "      <td>11.439</td>\n",
       "      <td>direct</td>\n",
       "      <td>windows</td>\n",
       "      <td>Other</td>\n",
       "      <td>Feb</td>\n",
       "      <td>New England</td>\n",
       "      <td>Returning</td>\n",
       "      <td>0.000</td>\n",
       "      <td>0.000</td>\n",
       "      <td>True</td>\n",
       "    </tr>\n",
       "    <tr>\n",
       "      <th>000x65</th>\n",
       "      <td>4.000</td>\n",
       "      <td>61.000</td>\n",
       "      <td>0.000</td>\n",
       "      <td>0.000</td>\n",
       "      <td>19.000</td>\n",
       "      <td>607.000</td>\n",
       "      <td>0.000</td>\n",
       "      <td>0.027</td>\n",
       "      <td>17.536</td>\n",
       "      <td>referral</td>\n",
       "      <td>android</td>\n",
       "      <td>Safari</td>\n",
       "      <td>Feb</td>\n",
       "      <td>West South Central</td>\n",
       "      <td>Returning</td>\n",
       "      <td>1.000</td>\n",
       "      <td>1.000</td>\n",
       "      <td>True</td>\n",
       "    </tr>\n",
       "    <tr>\n",
       "      <th>000xc6</th>\n",
       "      <td>0.000</td>\n",
       "      <td>0.000</td>\n",
       "      <td>0.000</td>\n",
       "      <td>0.000</td>\n",
       "      <td>17.000</td>\n",
       "      <td>840.233</td>\n",
       "      <td>0.000</td>\n",
       "      <td>0.002</td>\n",
       "      <td>109.176</td>\n",
       "      <td>direct</td>\n",
       "      <td>windows</td>\n",
       "      <td>Google-Chrome</td>\n",
       "      <td>Mar</td>\n",
       "      <td>Pacific</td>\n",
       "      <td>New</td>\n",
       "      <td>0.000</td>\n",
       "      <td>0.000</td>\n",
       "      <td>True</td>\n",
       "    </tr>\n",
       "    <tr>\n",
       "      <th>000xc7</th>\n",
       "      <td>3.000</td>\n",
       "      <td>94.000</td>\n",
       "      <td>2.000</td>\n",
       "      <td>125.000</td>\n",
       "      <td>55.000</td>\n",
       "      <td>1970.845</td>\n",
       "      <td>0.000</td>\n",
       "      <td>0.002</td>\n",
       "      <td>96.255</td>\n",
       "      <td>direct</td>\n",
       "      <td>windows</td>\n",
       "      <td>Firefox</td>\n",
       "      <td>Mar</td>\n",
       "      <td>New England</td>\n",
       "      <td>New</td>\n",
       "      <td>0.000</td>\n",
       "      <td>1.000</td>\n",
       "      <td>True</td>\n",
       "    </tr>\n",
       "  </tbody>\n",
       "</table>\n",
       "</div>"
      ],
      "text/plain": [
       "          SocialMedia  SocialMediaTime  News  NewsTime  Blogs  BlogsTime  \\\n",
       "UniqueId                                                                   \n",
       "000x41          3.000           87.833 0.000     0.000 27.000    798.333   \n",
       "000x4c         10.000         1005.667 0.000     0.000 36.000   2111.342   \n",
       "000x65          4.000           61.000 0.000     0.000 19.000    607.000   \n",
       "000xc6          0.000            0.000 0.000     0.000 17.000    840.233   \n",
       "000xc7          3.000           94.000 2.000   125.000 55.000   1970.845   \n",
       "\n",
       "          BounceRate  ExitRate  PageValue TrafficKind       OS        Browser  \\\n",
       "UniqueId                                                                        \n",
       "000x41         0.000     0.013     22.916      search  windows  Google-Chrome   \n",
       "000x4c         0.004     0.014     11.439      direct  windows          Other   \n",
       "000x65         0.000     0.027     17.536    referral  android         Safari   \n",
       "000xc6         0.000     0.002    109.176      direct  windows  Google-Chrome   \n",
       "000xc7         0.000     0.002     96.255      direct  windows        Firefox   \n",
       "\n",
       "         Month              Region VisitorKind  DayImportance  IsWeekend  \\\n",
       "UniqueId                                                                   \n",
       "000x41     Feb  East North Central   Returning          0.800      0.000   \n",
       "000x4c     Feb         New England   Returning          0.000      0.000   \n",
       "000x65     Feb  West South Central   Returning          1.000      1.000   \n",
       "000xc6     Mar             Pacific         New          0.000      0.000   \n",
       "000xc7     Mar         New England         New          0.000      1.000   \n",
       "\n",
       "          IsSale  \n",
       "UniqueId          \n",
       "000x41      True  \n",
       "000x4c      True  \n",
       "000x65      True  \n",
       "000xc6      True  \n",
       "000xc7      True  "
      ]
     },
     "execution_count": 4,
     "metadata": {},
     "output_type": "execute_result"
    }
   ],
   "source": [
    "train.head()"
   ]
  },
  {
   "cell_type": "code",
   "execution_count": 5,
   "metadata": {
    "colab": {},
    "colab_type": "code",
    "id": "W4tSmPPEasKK",
    "outputId": "9849a282-5c56-4445-da69-fd476eea186f"
   },
   "outputs": [
    {
     "data": {
      "text/plain": [
       "Index(['SocialMedia', 'SocialMediaTime', 'News', 'NewsTime', 'Blogs',\n",
       "       'BlogsTime', 'BounceRate', 'ExitRate', 'PageValue', 'TrafficKind', 'OS',\n",
       "       'Browser', 'Month', 'Region', 'VisitorKind', 'DayImportance',\n",
       "       'IsWeekend', 'IsSale'],\n",
       "      dtype='object')"
      ]
     },
     "execution_count": 5,
     "metadata": {},
     "output_type": "execute_result"
    }
   ],
   "source": [
    "#Explore columns\n",
    "train.columns"
   ]
  },
  {
   "cell_type": "code",
   "execution_count": 6,
   "metadata": {
    "colab": {},
    "colab_type": "code",
    "id": "dNTDbVpS3PNV",
    "outputId": "acd7e970-cecf-4687-bb67-aa5910a16a88"
   },
   "outputs": [
    {
     "data": {
      "text/html": [
       "<div>\n",
       "<style scoped>\n",
       "    .dataframe tbody tr th:only-of-type {\n",
       "        vertical-align: middle;\n",
       "    }\n",
       "\n",
       "    .dataframe tbody tr th {\n",
       "        vertical-align: top;\n",
       "    }\n",
       "\n",
       "    .dataframe thead th {\n",
       "        text-align: right;\n",
       "    }\n",
       "</style>\n",
       "<table border=\"1\" class=\"dataframe\">\n",
       "  <thead>\n",
       "    <tr style=\"text-align: right;\">\n",
       "      <th></th>\n",
       "      <th>SocialMedia</th>\n",
       "      <th>SocialMediaTime</th>\n",
       "      <th>News</th>\n",
       "      <th>NewsTime</th>\n",
       "      <th>Blogs</th>\n",
       "      <th>BlogsTime</th>\n",
       "      <th>BounceRate</th>\n",
       "      <th>ExitRate</th>\n",
       "      <th>PageValue</th>\n",
       "      <th>DayImportance</th>\n",
       "      <th>IsWeekend</th>\n",
       "    </tr>\n",
       "  </thead>\n",
       "  <tbody>\n",
       "    <tr>\n",
       "      <th>count</th>\n",
       "      <td>2900.000</td>\n",
       "      <td>2889.000</td>\n",
       "      <td>2892.000</td>\n",
       "      <td>2898.000</td>\n",
       "      <td>2893.000</td>\n",
       "      <td>2901.000</td>\n",
       "      <td>2891.000</td>\n",
       "      <td>2892.000</td>\n",
       "      <td>2891.000</td>\n",
       "      <td>2893.000</td>\n",
       "      <td>2896.000</td>\n",
       "    </tr>\n",
       "    <tr>\n",
       "      <th>mean</th>\n",
       "      <td>2.694</td>\n",
       "      <td>94.281</td>\n",
       "      <td>0.607</td>\n",
       "      <td>41.423</td>\n",
       "      <td>37.617</td>\n",
       "      <td>69062.541</td>\n",
       "      <td>0.016</td>\n",
       "      <td>0.034</td>\n",
       "      <td>14.110</td>\n",
       "      <td>0.045</td>\n",
       "      <td>0.261</td>\n",
       "    </tr>\n",
       "    <tr>\n",
       "      <th>std</th>\n",
       "      <td>3.566</td>\n",
       "      <td>184.294</td>\n",
       "      <td>1.326</td>\n",
       "      <td>144.907</td>\n",
       "      <td>50.334</td>\n",
       "      <td>2628346.866</td>\n",
       "      <td>0.039</td>\n",
       "      <td>0.041</td>\n",
       "      <td>27.794</td>\n",
       "      <td>0.173</td>\n",
       "      <td>0.439</td>\n",
       "    </tr>\n",
       "    <tr>\n",
       "      <th>min</th>\n",
       "      <td>-20.000</td>\n",
       "      <td>0.000</td>\n",
       "      <td>0.000</td>\n",
       "      <td>-1001.000</td>\n",
       "      <td>0.000</td>\n",
       "      <td>-2000056.000</td>\n",
       "      <td>0.000</td>\n",
       "      <td>0.000</td>\n",
       "      <td>0.000</td>\n",
       "      <td>0.000</td>\n",
       "      <td>0.000</td>\n",
       "    </tr>\n",
       "    <tr>\n",
       "      <th>25%</th>\n",
       "      <td>0.000</td>\n",
       "      <td>0.000</td>\n",
       "      <td>0.000</td>\n",
       "      <td>0.000</td>\n",
       "      <td>10.000</td>\n",
       "      <td>284.700</td>\n",
       "      <td>0.000</td>\n",
       "      <td>0.012</td>\n",
       "      <td>0.000</td>\n",
       "      <td>0.000</td>\n",
       "      <td>0.000</td>\n",
       "    </tr>\n",
       "    <tr>\n",
       "      <th>50%</th>\n",
       "      <td>1.000</td>\n",
       "      <td>27.000</td>\n",
       "      <td>0.000</td>\n",
       "      <td>0.000</td>\n",
       "      <td>22.000</td>\n",
       "      <td>794.993</td>\n",
       "      <td>0.001</td>\n",
       "      <td>0.021</td>\n",
       "      <td>0.000</td>\n",
       "      <td>0.000</td>\n",
       "      <td>0.000</td>\n",
       "    </tr>\n",
       "    <tr>\n",
       "      <th>75%</th>\n",
       "      <td>4.000</td>\n",
       "      <td>115.000</td>\n",
       "      <td>1.000</td>\n",
       "      <td>0.000</td>\n",
       "      <td>44.000</td>\n",
       "      <td>1758.250</td>\n",
       "      <td>0.012</td>\n",
       "      <td>0.038</td>\n",
       "      <td>17.829</td>\n",
       "      <td>0.000</td>\n",
       "      <td>1.000</td>\n",
       "    </tr>\n",
       "    <tr>\n",
       "      <th>max</th>\n",
       "      <td>27.000</td>\n",
       "      <td>2720.500</td>\n",
       "      <td>12.000</td>\n",
       "      <td>1767.667</td>\n",
       "      <td>584.000</td>\n",
       "      <td>100099000.000</td>\n",
       "      <td>0.200</td>\n",
       "      <td>0.200</td>\n",
       "      <td>360.953</td>\n",
       "      <td>1.000</td>\n",
       "      <td>1.000</td>\n",
       "    </tr>\n",
       "  </tbody>\n",
       "</table>\n",
       "</div>"
      ],
      "text/plain": [
       "       SocialMedia  SocialMediaTime     News  NewsTime    Blogs     BlogsTime  \\\n",
       "count     2900.000         2889.000 2892.000  2898.000 2893.000      2901.000   \n",
       "mean         2.694           94.281    0.607    41.423   37.617     69062.541   \n",
       "std          3.566          184.294    1.326   144.907   50.334   2628346.866   \n",
       "min        -20.000            0.000    0.000 -1001.000    0.000  -2000056.000   \n",
       "25%          0.000            0.000    0.000     0.000   10.000       284.700   \n",
       "50%          1.000           27.000    0.000     0.000   22.000       794.993   \n",
       "75%          4.000          115.000    1.000     0.000   44.000      1758.250   \n",
       "max         27.000         2720.500   12.000  1767.667  584.000 100099000.000   \n",
       "\n",
       "       BounceRate  ExitRate  PageValue  DayImportance  IsWeekend  \n",
       "count    2891.000  2892.000   2891.000       2893.000   2896.000  \n",
       "mean        0.016     0.034     14.110          0.045      0.261  \n",
       "std         0.039     0.041     27.794          0.173      0.439  \n",
       "min         0.000     0.000      0.000          0.000      0.000  \n",
       "25%         0.000     0.012      0.000          0.000      0.000  \n",
       "50%         0.001     0.021      0.000          0.000      0.000  \n",
       "75%         0.012     0.038     17.829          0.000      1.000  \n",
       "max         0.200     0.200    360.953          1.000      1.000  "
      ]
     },
     "execution_count": 6,
     "metadata": {},
     "output_type": "execute_result"
    }
   ],
   "source": [
    "#Description\n",
    "train.describe()"
   ]
  },
  {
   "cell_type": "code",
   "execution_count": 7,
   "metadata": {
    "colab": {},
    "colab_type": "code",
    "id": "RJPiIhd-asKO"
   },
   "outputs": [
    {
     "name": "stdout",
     "output_type": "stream",
     "text": [
      "<class 'pandas.core.frame.DataFrame'>\n",
      "Index: 2908 entries, 000x41 to 0x1d70\n",
      "Data columns (total 18 columns):\n",
      " #   Column           Non-Null Count  Dtype  \n",
      "---  ------           --------------  -----  \n",
      " 0   SocialMedia      2900 non-null   float64\n",
      " 1   SocialMediaTime  2889 non-null   float64\n",
      " 2   News             2892 non-null   float64\n",
      " 3   NewsTime         2898 non-null   float64\n",
      " 4   Blogs            2893 non-null   float64\n",
      " 5   BlogsTime        2901 non-null   float64\n",
      " 6   BounceRate       2891 non-null   float64\n",
      " 7   ExitRate         2892 non-null   float64\n",
      " 8   PageValue        2891 non-null   float64\n",
      " 9   TrafficKind      2889 non-null   object \n",
      " 10  OS               2896 non-null   object \n",
      " 11  Browser          2891 non-null   object \n",
      " 12  Month            2898 non-null   object \n",
      " 13  Region           2894 non-null   object \n",
      " 14  VisitorKind      2893 non-null   object \n",
      " 15  DayImportance    2893 non-null   float64\n",
      " 16  IsWeekend        2896 non-null   float64\n",
      " 17  IsSale           2908 non-null   bool   \n",
      "dtypes: bool(1), float64(11), object(6)\n",
      "memory usage: 411.8+ KB\n"
     ]
    }
   ],
   "source": [
    "train.info()"
   ]
  },
  {
   "cell_type": "code",
   "execution_count": 8,
   "metadata": {},
   "outputs": [],
   "source": [
    "df=train.drop_duplicates() #drop duplicates"
   ]
  },
  {
   "cell_type": "code",
   "execution_count": 9,
   "metadata": {},
   "outputs": [
    {
     "name": "stdout",
     "output_type": "stream",
     "text": [
      "<class 'pandas.core.frame.DataFrame'>\n",
      "Index: 2902 entries, 000x41 to 0x1d70\n",
      "Data columns (total 18 columns):\n",
      " #   Column           Non-Null Count  Dtype  \n",
      "---  ------           --------------  -----  \n",
      " 0   SocialMedia      2894 non-null   float64\n",
      " 1   SocialMediaTime  2883 non-null   float64\n",
      " 2   News             2886 non-null   float64\n",
      " 3   NewsTime         2892 non-null   float64\n",
      " 4   Blogs            2887 non-null   float64\n",
      " 5   BlogsTime        2895 non-null   float64\n",
      " 6   BounceRate       2885 non-null   float64\n",
      " 7   ExitRate         2886 non-null   float64\n",
      " 8   PageValue        2885 non-null   float64\n",
      " 9   TrafficKind      2883 non-null   object \n",
      " 10  OS               2890 non-null   object \n",
      " 11  Browser          2885 non-null   object \n",
      " 12  Month            2892 non-null   object \n",
      " 13  Region           2888 non-null   object \n",
      " 14  VisitorKind      2887 non-null   object \n",
      " 15  DayImportance    2887 non-null   float64\n",
      " 16  IsWeekend        2890 non-null   float64\n",
      " 17  IsSale           2902 non-null   bool   \n",
      "dtypes: bool(1), float64(11), object(6)\n",
      "memory usage: 410.9+ KB\n"
     ]
    }
   ],
   "source": [
    "df.info()"
   ]
  },
  {
   "cell_type": "code",
   "execution_count": 10,
   "metadata": {
    "colab": {},
    "colab_type": "code",
    "id": "rKQcXxm8c1rW"
   },
   "outputs": [
    {
     "data": {
      "text/plain": [
       "SocialMedia         8\n",
       "SocialMediaTime    19\n",
       "News               16\n",
       "NewsTime           10\n",
       "Blogs              15\n",
       "BlogsTime           7\n",
       "BounceRate         17\n",
       "ExitRate           16\n",
       "PageValue          17\n",
       "TrafficKind        19\n",
       "OS                 12\n",
       "Browser            17\n",
       "Month              10\n",
       "Region             14\n",
       "VisitorKind        15\n",
       "DayImportance      15\n",
       "IsWeekend          12\n",
       "IsSale              0\n",
       "dtype: int64"
      ]
     },
     "execution_count": 10,
     "metadata": {},
     "output_type": "execute_result"
    }
   ],
   "source": [
    "df.isnull().sum() #check missing value"
   ]
  },
  {
   "cell_type": "code",
   "execution_count": 11,
   "metadata": {},
   "outputs": [],
   "source": [
    "df2 = pd.read_csv('test.csv')"
   ]
  },
  {
   "cell_type": "code",
   "execution_count": 12,
   "metadata": {
    "colab": {},
    "colab_type": "code",
    "id": "FOKEc8u3asKr"
   },
   "outputs": [],
   "source": [
    "#Imputing Missing Values with Mode or Mean\n",
    "df['SocialMedia'] = df ['SocialMedia'].fillna(df['SocialMedia'].mean())\n",
    "df['SocialMediaTime'] = df ['SocialMediaTime'].fillna(df['SocialMediaTime'].mean())\n",
    "df['News'] = df ['News'].fillna(df['News'].mean())\n",
    "df['NewsTime'] = df ['NewsTime'].fillna(df['NewsTime'].mean())\n",
    "df['Blogs'] = df ['Blogs'].fillna(df['Blogs'].mean())\n",
    "df['BlogsTime'] = df ['BlogsTime'].fillna(df['BlogsTime'].mean())\n",
    "df['BounceRate'] = df ['BounceRate'].fillna(df['BounceRate'].mean())\n",
    "df['ExitRate'] = df ['ExitRate'].fillna(df['ExitRate'].mean())\n",
    "df['PageValue'] = df ['PageValue'].fillna(df['PageValue'].mean())\n",
    "df['TrafficKind'] = df ['TrafficKind'].fillna(df['TrafficKind'].mode())\n",
    "df['OS'] = df ['OS'].fillna(df['OS'].mode())\n",
    "df['Browser'] = df ['Browser'].fillna(df['Browser'].mode())\n",
    "df['Month'] = df ['Month'].fillna(df['Month'].mode())\n",
    "df['Region'] = df ['Region'].fillna(df['Region'].mode())\n",
    "df['VisitorKind'] = df ['VisitorKind'].fillna(df['VisitorKind'].mode())\n",
    "df['DayImportance'] = df ['DayImportance'].fillna(df['DayImportance'].mean())\n",
    "df['IsWeekend'] = df ['IsWeekend'].fillna(df['IsWeekend'].mean())\n"
   ]
  },
  {
   "cell_type": "code",
   "execution_count": 13,
   "metadata": {
    "colab": {},
    "colab_type": "code",
    "id": "kkZwMRwvasKs",
    "tags": []
   },
   "outputs": [
    {
     "name": "stdout",
     "output_type": "stream",
     "text": [
      "<class 'pandas.core.frame.DataFrame'>\n",
      "Index: 2902 entries, 000x41 to 0x1d70\n",
      "Data columns (total 18 columns):\n",
      " #   Column           Non-Null Count  Dtype  \n",
      "---  ------           --------------  -----  \n",
      " 0   SocialMedia      2902 non-null   float64\n",
      " 1   SocialMediaTime  2902 non-null   float64\n",
      " 2   News             2902 non-null   float64\n",
      " 3   NewsTime         2902 non-null   float64\n",
      " 4   Blogs            2902 non-null   float64\n",
      " 5   BlogsTime        2902 non-null   float64\n",
      " 6   BounceRate       2902 non-null   float64\n",
      " 7   ExitRate         2902 non-null   float64\n",
      " 8   PageValue        2902 non-null   float64\n",
      " 9   TrafficKind      2883 non-null   object \n",
      " 10  OS               2890 non-null   object \n",
      " 11  Browser          2885 non-null   object \n",
      " 12  Month            2892 non-null   object \n",
      " 13  Region           2888 non-null   object \n",
      " 14  VisitorKind      2887 non-null   object \n",
      " 15  DayImportance    2902 non-null   float64\n",
      " 16  IsWeekend        2902 non-null   float64\n",
      " 17  IsSale           2902 non-null   bool   \n",
      "dtypes: bool(1), float64(11), object(6)\n",
      "memory usage: 410.9+ KB\n"
     ]
    }
   ],
   "source": [
    "df.info()"
   ]
  },
  {
   "cell_type": "code",
   "execution_count": 14,
   "metadata": {},
   "outputs": [],
   "source": [
    "#Imputing Missing Values with Mode or Mean\n",
    "df2['SocialMedia'] = df2 ['SocialMedia'].fillna(df2['SocialMedia'].mean())\n",
    "df2['SocialMediaTime'] = df2 ['SocialMediaTime'].fillna(df2['SocialMediaTime'].mean())\n",
    "df2['News'] = df2 ['News'].fillna(df2['News'].mean())\n",
    "df2['NewsTime'] = df2 ['NewsTime'].fillna(df2['NewsTime'].mean())\n",
    "df2['Blogs'] = df2 ['Blogs'].fillna(df2['Blogs'].mean())\n",
    "df2['BlogsTime'] = df2 ['BlogsTime'].fillna(df2['BlogsTime'].mean())\n",
    "df2['BounceRate'] = df2 ['BounceRate'].fillna(df2['BounceRate'].mean())\n",
    "df2['ExitRate'] = df2 ['ExitRate'].fillna(df2['ExitRate'].mean())\n",
    "df2['PageValue'] = df2 ['PageValue'].fillna(df2['PageValue'].mean())\n",
    "df2['TrafficKind'] = df2 ['TrafficKind'].fillna(df2['TrafficKind'].mode())\n",
    "df2['DayImportance'] = df2 ['DayImportance'].fillna(df2['DayImportance'].mean())\n",
    "df2['IsWeekend'] = df2 ['IsWeekend'].fillna(df2['IsWeekend'].mean())\n",
    "df2['OS'] = df2 ['OS'].fillna(df2['OS'].mode())\n",
    "df2['Browser'] = df2 ['Browser'].fillna(df2['Browser'].mode())\n",
    "df2['Month'] = df2 ['Month'].fillna(df2['Month'].mode())\n",
    "df2['Region'] = df2 ['Region'].fillna(df2['Region'].mode())\n",
    "df2['VisitorKind'] = df2 ['VisitorKind'].fillna(df2['VisitorKind'].mode())"
   ]
  },
  {
   "cell_type": "code",
   "execution_count": 15,
   "metadata": {},
   "outputs": [],
   "source": [
    "df2['OS'] = df2 ['OS'].fillna(df2['OS'].mode())\n",
    "df2['Browser'] = df2 ['Browser'].fillna(df2['Browser'].mode())\n",
    "df2['Month'] = df2 ['Month'].fillna(df2['Month'].mode())\n",
    "df2['Region'] = df2 ['Region'].fillna(df2['Region'].mode())\n",
    "df2['VisitorKind'] = df2 ['VisitorKind'].fillna(df2['VisitorKind'].mode())"
   ]
  },
  {
   "cell_type": "code",
   "execution_count": 16,
   "metadata": {
    "colab": {},
    "colab_type": "code",
    "id": "OTAmbKi8asKt"
   },
   "outputs": [
    {
     "name": "stdout",
     "output_type": "stream",
     "text": [
      "<class 'pandas.core.frame.DataFrame'>\n",
      "RangeIndex: 1000 entries, 0 to 999\n",
      "Data columns (total 18 columns):\n",
      " #   Column           Non-Null Count  Dtype  \n",
      "---  ------           --------------  -----  \n",
      " 0   UniqueId         1000 non-null   object \n",
      " 1   SocialMedia      1000 non-null   float64\n",
      " 2   SocialMediaTime  1000 non-null   float64\n",
      " 3   News             1000 non-null   float64\n",
      " 4   NewsTime         1000 non-null   float64\n",
      " 5   Blogs            1000 non-null   float64\n",
      " 6   BlogsTime        1000 non-null   float64\n",
      " 7   BounceRate       1000 non-null   float64\n",
      " 8   ExitRate         1000 non-null   float64\n",
      " 9   PageValue        1000 non-null   float64\n",
      " 10  TrafficKind      994 non-null    object \n",
      " 11  OS               994 non-null    object \n",
      " 12  Browser          996 non-null    object \n",
      " 13  Month            995 non-null    object \n",
      " 14  Region           994 non-null    object \n",
      " 15  VisitorKind      996 non-null    object \n",
      " 16  DayImportance    1000 non-null   float64\n",
      " 17  IsWeekend        1000 non-null   float64\n",
      "dtypes: float64(11), object(7)\n",
      "memory usage: 140.8+ KB\n"
     ]
    }
   ],
   "source": [
    "df2.info()"
   ]
  },
  {
   "cell_type": "code",
   "execution_count": 17,
   "metadata": {},
   "outputs": [],
   "source": [
    "features = list(df.columns)\n",
    "features.remove('IsSale')"
   ]
  },
  {
   "cell_type": "code",
   "execution_count": 18,
   "metadata": {},
   "outputs": [],
   "source": [
    "encoded_df = pd.get_dummies(df[features])\n",
    "encoded_df2 = pd.get_dummies(df2[features])"
   ]
  },
  {
   "cell_type": "code",
   "execution_count": 19,
   "metadata": {},
   "outputs": [],
   "source": [
    "test_data = encoded_df2"
   ]
  },
  {
   "cell_type": "code",
   "execution_count": 20,
   "metadata": {
    "colab": {},
    "colab_type": "code",
    "id": "nzkTA5ii6i3s"
   },
   "outputs": [],
   "source": [
    "X = encoded_df\n",
    "y = df['IsSale']"
   ]
  },
  {
   "cell_type": "code",
   "execution_count": 21,
   "metadata": {
    "colab": {},
    "colab_type": "code",
    "id": "EACDc1md6jBU"
   },
   "outputs": [],
   "source": [
    "from sklearn.model_selection import train_test_split\n",
    "X_train, X_test, y_train, y_test = train_test_split (X, y , test_size = 0.2, random_state = 42)"
   ]
  },
  {
   "cell_type": "code",
   "execution_count": 22,
   "metadata": {
    "colab": {},
    "colab_type": "code",
    "id": "IoIK6k046jJ_"
   },
   "outputs": [],
   "source": [
    "from sklearn.ensemble import RandomForestClassifier"
   ]
  },
  {
   "cell_type": "code",
   "execution_count": 23,
   "metadata": {},
   "outputs": [
    {
     "data": {
      "text/html": [
       "<style>#sk-container-id-1 {color: black;background-color: white;}#sk-container-id-1 pre{padding: 0;}#sk-container-id-1 div.sk-toggleable {background-color: white;}#sk-container-id-1 label.sk-toggleable__label {cursor: pointer;display: block;width: 100%;margin-bottom: 0;padding: 0.3em;box-sizing: border-box;text-align: center;}#sk-container-id-1 label.sk-toggleable__label-arrow:before {content: \"▸\";float: left;margin-right: 0.25em;color: #696969;}#sk-container-id-1 label.sk-toggleable__label-arrow:hover:before {color: black;}#sk-container-id-1 div.sk-estimator:hover label.sk-toggleable__label-arrow:before {color: black;}#sk-container-id-1 div.sk-toggleable__content {max-height: 0;max-width: 0;overflow: hidden;text-align: left;background-color: #f0f8ff;}#sk-container-id-1 div.sk-toggleable__content pre {margin: 0.2em;color: black;border-radius: 0.25em;background-color: #f0f8ff;}#sk-container-id-1 input.sk-toggleable__control:checked~div.sk-toggleable__content {max-height: 200px;max-width: 100%;overflow: auto;}#sk-container-id-1 input.sk-toggleable__control:checked~label.sk-toggleable__label-arrow:before {content: \"▾\";}#sk-container-id-1 div.sk-estimator input.sk-toggleable__control:checked~label.sk-toggleable__label {background-color: #d4ebff;}#sk-container-id-1 div.sk-label input.sk-toggleable__control:checked~label.sk-toggleable__label {background-color: #d4ebff;}#sk-container-id-1 input.sk-hidden--visually {border: 0;clip: rect(1px 1px 1px 1px);clip: rect(1px, 1px, 1px, 1px);height: 1px;margin: -1px;overflow: hidden;padding: 0;position: absolute;width: 1px;}#sk-container-id-1 div.sk-estimator {font-family: monospace;background-color: #f0f8ff;border: 1px dotted black;border-radius: 0.25em;box-sizing: border-box;margin-bottom: 0.5em;}#sk-container-id-1 div.sk-estimator:hover {background-color: #d4ebff;}#sk-container-id-1 div.sk-parallel-item::after {content: \"\";width: 100%;border-bottom: 1px solid gray;flex-grow: 1;}#sk-container-id-1 div.sk-label:hover label.sk-toggleable__label {background-color: #d4ebff;}#sk-container-id-1 div.sk-serial::before {content: \"\";position: absolute;border-left: 1px solid gray;box-sizing: border-box;top: 0;bottom: 0;left: 50%;z-index: 0;}#sk-container-id-1 div.sk-serial {display: flex;flex-direction: column;align-items: center;background-color: white;padding-right: 0.2em;padding-left: 0.2em;position: relative;}#sk-container-id-1 div.sk-item {position: relative;z-index: 1;}#sk-container-id-1 div.sk-parallel {display: flex;align-items: stretch;justify-content: center;background-color: white;position: relative;}#sk-container-id-1 div.sk-item::before, #sk-container-id-1 div.sk-parallel-item::before {content: \"\";position: absolute;border-left: 1px solid gray;box-sizing: border-box;top: 0;bottom: 0;left: 50%;z-index: -1;}#sk-container-id-1 div.sk-parallel-item {display: flex;flex-direction: column;z-index: 1;position: relative;background-color: white;}#sk-container-id-1 div.sk-parallel-item:first-child::after {align-self: flex-end;width: 50%;}#sk-container-id-1 div.sk-parallel-item:last-child::after {align-self: flex-start;width: 50%;}#sk-container-id-1 div.sk-parallel-item:only-child::after {width: 0;}#sk-container-id-1 div.sk-dashed-wrapped {border: 1px dashed gray;margin: 0 0.4em 0.5em 0.4em;box-sizing: border-box;padding-bottom: 0.4em;background-color: white;}#sk-container-id-1 div.sk-label label {font-family: monospace;font-weight: bold;display: inline-block;line-height: 1.2em;}#sk-container-id-1 div.sk-label-container {text-align: center;}#sk-container-id-1 div.sk-container {/* jupyter's `normalize.less` sets `[hidden] { display: none; }` but bootstrap.min.css set `[hidden] { display: none !important; }` so we also need the `!important` here to be able to override the default hidden behavior on the sphinx rendered scikit-learn.org. See: https://github.com/scikit-learn/scikit-learn/issues/21755 */display: inline-block !important;position: relative;}#sk-container-id-1 div.sk-text-repr-fallback {display: none;}</style><div id=\"sk-container-id-1\" class=\"sk-top-container\"><div class=\"sk-text-repr-fallback\"><pre>RandomForestClassifier(random_state=0)</pre><b>In a Jupyter environment, please rerun this cell to show the HTML representation or trust the notebook. <br />On GitHub, the HTML representation is unable to render, please try loading this page with nbviewer.org.</b></div><div class=\"sk-container\" hidden><div class=\"sk-item\"><div class=\"sk-estimator sk-toggleable\"><input class=\"sk-toggleable__control sk-hidden--visually\" id=\"sk-estimator-id-1\" type=\"checkbox\" checked><label for=\"sk-estimator-id-1\" class=\"sk-toggleable__label sk-toggleable__label-arrow\">RandomForestClassifier</label><div class=\"sk-toggleable__content\"><pre>RandomForestClassifier(random_state=0)</pre></div></div></div></div></div>"
      ],
      "text/plain": [
       "RandomForestClassifier(random_state=0)"
      ]
     },
     "execution_count": 23,
     "metadata": {},
     "output_type": "execute_result"
    }
   ],
   "source": [
    "rf =RandomForestClassifier(random_state=0)\n",
    "rf.fit(X_train, y_train)"
   ]
  },
  {
   "cell_type": "code",
   "execution_count": 24,
   "metadata": {},
   "outputs": [],
   "source": [
    "y_predict = rf.predict(X_test)"
   ]
  },
  {
   "cell_type": "code",
   "execution_count": 25,
   "metadata": {},
   "outputs": [],
   "source": [
    "from sklearn.metrics import accuracy_score"
   ]
  },
  {
   "cell_type": "code",
   "execution_count": 26,
   "metadata": {},
   "outputs": [
    {
     "name": "stdout",
     "output_type": "stream",
     "text": [
      "Model accuracy score : 0.8503\n"
     ]
    }
   ],
   "source": [
    "print ('Model accuracy score : {0:0.4f}'.format(accuracy_score(y_test, y_predict)))"
   ]
  },
  {
   "cell_type": "code",
   "execution_count": null,
   "metadata": {
    "colab": {},
    "colab_type": "code",
    "id": "dDUszYgY6jTC"
   },
   "outputs": [],
   "source": []
  },
  {
   "cell_type": "markdown",
   "metadata": {
    "colab": {
     "base_uri": "https://localhost:8080/",
     "height": 130
    },
    "colab_type": "code",
    "executionInfo": {
     "elapsed": 2964,
     "status": "error",
     "timestamp": 1576086181960,
     "user": {
      "displayName": "Div Jain",
      "photoUrl": "https://lh3.googleusercontent.com/a-/AAuE7mB0Z3BTuzZyLIUaY8595HcXhBUY4LSb6au24DHqIQ=s64",
      "userId": "09518310134736828942"
     },
     "user_tz": -330
    },
    "id": "Q10pPSlJ6jxF",
    "outputId": "a7b10296-ce81-4fad-bec4-4daee7fff2b0"
   },
   "source": [
    "\n",
    "\n",
    "**The management wants to know what are the most important features for the model.**\n",
    "\n",
    "> #### Task:\n",
    "- **Visualize the top 20 features and their feature importance.**\n"
   ]
  },
  {
   "cell_type": "code",
   "execution_count": 27,
   "metadata": {},
   "outputs": [
    {
     "data": {
      "text/plain": [
       "PageValue                   0.332\n",
       "ExitRate                    0.094\n",
       "BlogsTime                   0.090\n",
       "Blogs                       0.066\n",
       "BounceRate                  0.052\n",
       "SocialMediaTime             0.051\n",
       "SocialMedia                 0.037\n",
       "NewsTime                    0.027\n",
       "Month_Nov                   0.022\n",
       "News                        0.021\n",
       "TrafficKind_search          0.012\n",
       "IsWeekend                   0.011\n",
       "TrafficKind_direct          0.010\n",
       "Month_May                   0.010\n",
       "Region_New England          0.010\n",
       "VisitorKind_Returning       0.009\n",
       "OS_windows                  0.009\n",
       "VisitorKind_New             0.009\n",
       "Browser_Google-Chrome       0.009\n",
       "OS_mac-ios                  0.008\n",
       "Region_East North Central   0.008\n",
       "Month_Mar                   0.008\n",
       "TrafficKind_referral        0.008\n",
       "Month_Dec                   0.008\n",
       "OS_android                  0.006\n",
       "DayImportance               0.006\n",
       "Month_Oct                   0.006\n",
       "Region_West North Central   0.006\n",
       "Browser_Safari              0.006\n",
       "Month_Sep                   0.005\n",
       "Region_Mid-Atlantic         0.005\n",
       "Browser_Firefox             0.005\n",
       "Region_East South Central   0.004\n",
       "Browser_Other               0.004\n",
       "Region_West South Central   0.004\n",
       "Month_Jul                   0.004\n",
       "Month_Aug                   0.004\n",
       "Region_Pacific              0.004\n",
       "Browser_Samsung             0.003\n",
       "Region_Mountain             0.003\n",
       "OS_linux                    0.003\n",
       "Region_South Atlantic       0.002\n",
       "Month_June                  0.002\n",
       "OS_other                    0.001\n",
       "TrafficKind_campaigns       0.001\n",
       "VisitorKind_Other           0.000\n",
       "Month_Feb                   0.000\n",
       "dtype: float64"
      ]
     },
     "execution_count": 27,
     "metadata": {},
     "output_type": "execute_result"
    }
   ],
   "source": [
    "features_scores = pd.Series(rf.feature_importances_, index = X_train.columns).sort_values(ascending=False)\n",
    "features_scores"
   ]
  },
  {
   "cell_type": "code",
   "execution_count": 28,
   "metadata": {
    "colab": {},
    "colab_type": "code",
    "id": "PSMF8YNWDftA"
   },
   "outputs": [
    {
     "data": {
      "image/png": "[encoded data removed]",
      "text/plain": [
       "<Figure size 432x288 with 1 Axes>"
      ]
     },
     "metadata": {
      "needs_background": "light"
     },
     "output_type": "display_data"
    }
   ],
   "source": [
    "sns.barplot(x=features_scores, y = features_scores.index)\n",
    "\n",
    "plt.xlabel('Skor Feature Importance')\n",
    "plt.ylabel('Features')\n",
    "\n",
    "plt.title(\"Visualisasi\")\n",
    "\n",
    "plt.show()"
   ]
  },
  {
   "cell_type": "code",
   "execution_count": 29,
   "metadata": {},
   "outputs": [],
   "source": [
    "test_id = df2.UniqueId"
   ]
  },
  {
   "cell_type": "code",
   "execution_count": 30,
   "metadata": {
    "colab": {},
    "colab_type": "code",
    "id": "XerjX13NL6w0"
   },
   "outputs": [],
   "source": [
    "submission_df = pd.DataFrame({\"UniqueId\":test_id, \"IsSale\":rf.predict(test_data)})"
   ]
  },
  {
   "cell_type": "code",
   "execution_count": 31,
   "metadata": {
    "colab": {},
    "colab_type": "code",
    "id": "_trNCAAzL67H"
   },
   "outputs": [],
   "source": [
    "#Submission\n",
    "submission_df.to_csv('submissions.csv',index=False)"
   ]
  },
  {
   "cell_type": "code",
   "execution_count": null,
   "metadata": {},
   "outputs": [],
   "source": []
  },
  {
   "cell_type": "code",
   "execution_count": null,
   "metadata": {},
   "outputs": [],
   "source": []
  }
 ],
 "metadata": {
  "colab": {
   "collapsed_sections": [],
   "name": "Questions.ipynb",
   "provenance": []
  },
  "kernelspec": {
   "display_name": "Python 3",
   "language": "python",
   "name": "python3"
  },
  "language_info": {
   "codemirror_mode": {
    "name": "ipython",
    "version": 3
   },
   "file_extension": ".py",
   "mimetype": "text/x-python",
   "name": "python",
   "nbconvert_exporter": "python",
   "pygments_lexer": "ipython3",
   "version": "3.8.8"
  }
 },
 "nbformat": 4,
 "nbformat_minor": 4
}
